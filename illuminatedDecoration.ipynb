{
 "cells": [
  {
   "cell_type": "code",
   "execution_count": null,
   "id": "bf96fa16",
   "metadata": {},
   "outputs": [],
   "source": [
    "path = r\"./decoration\""
   ]
  },
  {
   "cell_type": "code",
   "execution_count": null,
   "id": "1138eeb0-af3e-41a7-b17c-f9c68a9061fc",
   "metadata": {
    "scrolled": true
   },
   "outputs": [
    {
     "name": "stdout",
     "output_type": "stream",
     "text": [
      "execute {pictFilename}\n",
      "[[ 6.519240e-04  0.000000e+00 -6.251616e-01]\n",
      " [ 0.000000e+00  6.519240e-04 -4.698111e-01]\n",
      " [ 0.000000e+00  0.000000e+00  1.000000e+00]]\n",
      "[[ 0.9576898   0.28633827  0.02899024 -0.01503928]\n",
      " [ 0.047818   -0.05898013 -0.9971131  -0.11950688]\n",
      " [-0.28380185  0.95631135 -0.07017682  0.00960103]\n",
      " [ 0.          0.          0.          0.9999999 ]]\n",
      "done\n"
     ]
    }
   ],
   "source": [
    "run generateFilteredXYZ.py --input {path}"
   ]
  }
 ],
 "metadata": {
  "kernelspec": {
   "display_name": "Python 3 (ipykernel)",
   "language": "python",
   "name": "python3"
  },
  "language_info": {
   "codemirror_mode": {
    "name": "ipython",
    "version": 3
   },
   "file_extension": ".py",
   "mimetype": "text/x-python",
   "name": "python",
   "nbconvert_exporter": "python",
   "pygments_lexer": "ipython3",
   "version": "3.12.9"
  }
 },
 "nbformat": 4,
 "nbformat_minor": 5
}
