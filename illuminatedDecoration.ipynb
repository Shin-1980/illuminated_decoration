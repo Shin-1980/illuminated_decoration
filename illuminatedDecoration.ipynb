{
 "cells": [
  {
   "cell_type": "code",
   "execution_count": null,
   "id": "bf96fa16",
   "metadata": {},
   "outputs": [],
   "source": [
    "path = r\"./decoration\""
   ]
  },
  {
   "cell_type": "code",
   "execution_count": 1,
   "id": "75224653-8fac-4881-95bb-d0e55640fd45",
   "metadata": {},
   "outputs": [],
   "source": [
    "path = r\"C:\\doc\\PointClouds\\demo\\corn\""
   ]
  },
  {
   "cell_type": "code",
   "execution_count": 2,
   "id": "1138eeb0-af3e-41a7-b17c-f9c68a9061fc",
   "metadata": {
    "scrolled": true
   },
   "outputs": [
    {
     "name": "stdout",
     "output_type": "stream",
     "text": [
      "Jupyter environment detected. Enabling Open3D WebVisualizer.\n",
      "[Open3D INFO] WebRTC GUI backend enabled.\n",
      "[Open3D INFO] WebRTCWindowSystem: HTTP handshake server disabled.\n",
      "Reading...\n",
      "1 / 21 files\n",
      "2 / 21 files\n",
      "3 / 21 files\n",
      "4 / 21 files\n",
      "5 / 21 files\n",
      "6 / 21 files\n",
      "7 / 21 files\n",
      "8 / 21 files\n",
      "9 / 21 files\n",
      "10 / 21 files\n",
      "11 / 21 files\n",
      "12 / 21 files\n",
      "13 / 21 files\n",
      "14 / 21 files\n",
      "15 / 21 files\n",
      "16 / 21 files\n",
      "17 / 21 files\n",
      "18 / 21 files\n",
      "19 / 21 files\n",
      "20 / 21 files\n",
      "21 / 21 files\n",
      "C:\\doc\\PointClouds\\demo\\corn/xyz/all.xyz\n",
      "done\n"
     ]
    }
   ],
   "source": [
    "run generateFilteredXYZ.py --input {path}"
   ]
  },
  {
   "cell_type": "code",
   "execution_count": null,
   "id": "02d3f329-282f-4fc6-be13-c5e17954a0f2",
   "metadata": {},
   "outputs": [],
   "source": []
  }
 ],
 "metadata": {
  "kernelspec": {
   "display_name": "Python 3 (ipykernel)",
   "language": "python",
   "name": "python3"
  },
  "language_info": {
   "codemirror_mode": {
    "name": "ipython",
    "version": 3
   },
   "file_extension": ".py",
   "mimetype": "text/x-python",
   "name": "python",
   "nbconvert_exporter": "python",
   "pygments_lexer": "ipython3",
   "version": "3.12.9"
  }
 },
 "nbformat": 4,
 "nbformat_minor": 5
}
